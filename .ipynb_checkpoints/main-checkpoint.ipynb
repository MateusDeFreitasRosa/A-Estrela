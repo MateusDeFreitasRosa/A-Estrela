{
 "cells": [
  {
   "cell_type": "code",
   "execution_count": 169,
   "id": "5a791c62-fbb8-4e15-9255-667aeb948804",
   "metadata": {},
   "outputs": [],
   "source": [
    "## Este código implementa o algoritmo A-Estrela para resolver o problema do Quebra-Cabeça de Oito Peças"
   ]
  },
  {
   "cell_type": "markdown",
   "id": "e4e4426a-1a52-45ce-a477-00b2dfbcbfc4",
   "metadata": {},
   "source": [
    "## Definição do funcionamento do jogo"
   ]
  },
  {
   "cell_type": "code",
   "execution_count": 170,
   "id": "e1f221ea-792d-4b7a-9e30-9c482a884880",
   "metadata": {},
   "outputs": [],
   "source": [
    "import numpy as np\n",
    "import random\n",
    "import pandas as pd"
   ]
  },
  {
   "cell_type": "code",
   "execution_count": 171,
   "id": "2346eb52-d347-4bf6-9c66-5224ccd7f258",
   "metadata": {},
   "outputs": [],
   "source": [
    "def h1(puzzle):\n",
    "    global objective_puzzle\n",
    "    \n",
    "    '''\n",
    "        Esta heurística consiste em contabilizar quantas peças estão em locais errados.\n",
    "        Esta é uma heurística simples.\n",
    "    '''\n",
    "    \n",
    "    return (puzzle != objective_puzzle).sum()"
   ]
  },
  {
   "cell_type": "code",
   "execution_count": 172,
   "id": "eda3a6cf-fb90-4cfd-b464-c0542903eb2b",
   "metadata": {},
   "outputs": [],
   "source": [
    "def h2(puzzle):\n",
    "    global objective_puzzle\n",
    "    \n",
    "    '''\n",
    "        Esta heurística consiste em calcular a distância de manhattan de cada peça até sua posição objetivo.\n",
    "    '''\n",
    "    distancias_manhattan = []\n",
    "    \n",
    "    for i in range(puzzle.shape[0]):\n",
    "        for j in range(puzzle.shape[1]):\n",
    "            position = np.where(objective_puzzle == puzzle[i][j])\n",
    "            \n",
    "            distancias_manhattan.append( int(abs(i - position[0]) + abs(j - position[1])) )\n",
    "    \n",
    "    return np.asarray(distancias_manhattan).sum()"
   ]
  },
  {
   "cell_type": "code",
   "execution_count": 173,
   "id": "337e1bc7-5859-4d08-bf58-1ca3c48715c4",
   "metadata": {},
   "outputs": [],
   "source": [
    "## Função para avaliar quais são os possíveis movimentos.\n",
    "def action_is_valid(new_position):\n",
    "    global puzzle_shape\n",
    "    max_height = puzzle_shape[0]\n",
    "    max_width = puzzle_shape[1]\n",
    "    \n",
    "    if new_position[0] >= 0 and new_position[0] < max_height and new_position[1] >= 0 and new_position[1] < max_width:\n",
    "        return True"
   ]
  },
  {
   "cell_type": "code",
   "execution_count": 174,
   "id": "470cecc9-f32d-46f6-a588-56d857faaf39",
   "metadata": {},
   "outputs": [],
   "source": [
    "## Função de ação no tabuleiro\n",
    "def expands_new_states(father_puzzle):\n",
    "    global rule_action\n",
    "    \n",
    "    \n",
    "    actions = []\n",
    "    children_puzzles = []\n",
    "    \n",
    "    ## Itera todas as possíveis ações para expandir os novos estados.\n",
    "    for act in rule_action.keys():\n",
    "        ## Pega a posição do espaço vazio do tabuleiro\n",
    "        position = np.where(father_puzzle == None)\n",
    "\n",
    "        ## Realiza a ação de movimentar a peça vazia.\n",
    "        new_position = (position[0] + rule_action[act][0], position[1] + rule_action[act][1])\n",
    "        \n",
    "        if action_is_valid(new_position):\n",
    "            actions.append(act)\n",
    "            child_puzzle = father_puzzle.copy()\n",
    "            ## Atualiza o tabuleiro com o novo estado, após o movimento da posição vazia do tabuleiro.\n",
    "            child_puzzle[position] = child_puzzle[new_position]\n",
    "            child_puzzle[new_position] = None\n",
    "            \n",
    "            children_puzzles.append(child_puzzle)\n",
    "    \n",
    "    return (actions, children_puzzles)\n",
    "\n",
    "\n"
   ]
  },
  {
   "cell_type": "code",
   "execution_count": 175,
   "id": "adf2c448-15eb-48f0-89d0-174ddb5a8001",
   "metadata": {},
   "outputs": [],
   "source": [
    "def insert(arr, value):\n",
    "    arr.append(value)\n",
    "    i = len(arr) - 1\n",
    "    while i != 0 and arr[(i-1)//2]['fn'] < arr[i]['fn']:\n",
    "        arr[i], arr[(i-1)//2] = arr[(i-1)//2], arr[i]\n",
    "        i = (i-1)//2"
   ]
  },
  {
   "cell_type": "markdown",
   "id": "e8fa32d8-a81c-4279-8e62-0b605106414f",
   "metadata": {},
   "source": [
    "## Algoritmo A*"
   ]
  },
  {
   "cell_type": "code",
   "execution_count": 176,
   "id": "6140ad0b-36ed-4ccd-92f8-04d2a749d810",
   "metadata": {},
   "outputs": [],
   "source": [
    "def insert(arr, value):\n",
    "    arr.append(value)\n",
    "    i = len(arr) - 1\n",
    "    while i != 0 and arr[(i-1)//2]['fn'] > arr[i]['fn']:\n",
    "        arr[i], arr[(i-1)//2] = arr[(i-1)//2], arr[i]\n",
    "        i = (i-1)//2"
   ]
  },
  {
   "cell_type": "code",
   "execution_count": 208,
   "id": "d5dd7415-9dd0-4124-9be8-6607e840d177",
   "metadata": {},
   "outputs": [],
   "source": [
    "def structure(action, actions, puzzle, heuristic, hn, depth):\n",
    "    struct = {}\n",
    "    \n",
    "    struct['action'] = action\n",
    "    struct['actions'] = actions\n",
    "    struct['puzzle'] = puzzle\n",
    "    struct['heuristic'] = heuristic\n",
    "    struct['hn'] = hn\n",
    "    struct['fn'] = depth + hn\n",
    "    struct['depth'] = depth\n",
    "    struct['id_puzzle'] = get_number_of_state_table(puzzle)\n",
    "    \n",
    "    return struct"
   ]
  },
  {
   "cell_type": "code",
   "execution_count": 209,
   "id": "546e24ae-02a6-4261-aef9-66ec03a48fd0",
   "metadata": {},
   "outputs": [],
   "source": [
    "objective_puzzle = np.asarray([\n",
    "    [1, 2, 3],\n",
    "    [4, 5, 6],\n",
    "    [7, 8, None]\n",
    "])\n",
    "\n",
    "\n",
    "# objective_puzzle = np.asarray([\n",
    "#     [1, 2, 3, 4 ],\n",
    "#     [5, 6, 7, 8],\n",
    "#     [9, 10, 11, 12],\n",
    "#     [13, 14, 15, None]\n",
    "# ])\n",
    "\n",
    "\n",
    "## Define as regras de movimentações:\n",
    "rule_action = {\n",
    "    'top': (-1, 0),\n",
    "    'bottom': (1, 0),\n",
    "    'left': (0, -1),\n",
    "    'right': (0, 1)\n",
    "}\n",
    "\n",
    "\n",
    "puzzle_shape = (3, 3)"
   ]
  },
  {
   "cell_type": "code",
   "execution_count": 210,
   "id": "397b3592-0084-429d-b807-d5d750b75b1e",
   "metadata": {},
   "outputs": [],
   "source": [
    "def random_board_solvable(randomize=500):\n",
    "    global objective_puzzle\n",
    "    board_random = objective_puzzle.copy()\n",
    "    children = expands_new_states(board_random)\n",
    "    for i in range(randomize):\n",
    "\n",
    "\n",
    "        random_event = random.choice(children[0])\n",
    "        #moviment = list(rule_action.keys())[random_event]\n",
    "        pos = children[0].index(random_event)\n",
    "\n",
    "        board_random = children[1][pos].copy()\n",
    "\n",
    "        children = expands_new_states(board_random)\n",
    "    \n",
    "    return board_random"
   ]
  },
  {
   "cell_type": "code",
   "execution_count": 180,
   "id": "9da7d810-4911-4dfb-839c-600433ad615b",
   "metadata": {},
   "outputs": [],
   "source": [
    "board_random = random_board_solvable(randomize=500)"
   ]
  },
  {
   "cell_type": "code",
   "execution_count": 181,
   "id": "5f552632-2e7d-4bd4-8604-13653d9d3092",
   "metadata": {},
   "outputs": [],
   "source": [
    "board_random = np.asarray([\n",
    "    [1, 2, 3],\n",
    "    [4, 5, 6],\n",
    "    [8, 7, None]\n",
    "])"
   ]
  },
  {
   "cell_type": "code",
   "execution_count": 182,
   "id": "93058234-92ad-4df8-a801-a5622d7a98c1",
   "metadata": {},
   "outputs": [],
   "source": [
    "import numpy as np\n",
    "\n",
    "def count_inversions(board):\n",
    "    flat_board = board.flatten()\n",
    "    valid_entries = [x for x in flat_board if x is not None]\n",
    "    inv_count = 0\n",
    "    for i in range(len(valid_entries)):\n",
    "        for j in range(i + 1, len(valid_entries)):\n",
    "            if valid_entries[i] > valid_entries[j]:\n",
    "                inv_count += 1\n",
    "    return inv_count\n",
    "\n",
    "def is_solvable(board):\n",
    "    inv_count = count_inversions(board)\n",
    "    \n",
    "    # Encontre a posição da peça vazia\n",
    "    row_empty, col_empty = np.where(board == None)\n",
    "    row_from_bottom = board.shape[0] - row_empty[0]\n",
    "    \n",
    "    # Se a largura do tabuleiro é ímpar\n",
    "    if board.shape[1] % 2 == 1:\n",
    "        return inv_count % 2 == 0\n",
    "    else:\n",
    "        if row_from_bottom % 2 == 0:\n",
    "            return inv_count % 2 == 1\n",
    "        else:\n",
    "            return inv_count % 2 == 0\n",
    "        \n",
    "\n"
   ]
  },
  {
   "cell_type": "code",
   "execution_count": 183,
   "id": "c2d9aa72-c25a-4de2-bbc3-0dbf6640858e",
   "metadata": {},
   "outputs": [
    {
     "data": {
      "text/plain": [
       "False"
      ]
     },
     "execution_count": 183,
     "metadata": {},
     "output_type": "execute_result"
    }
   ],
   "source": [
    "is_solvable(board_random)"
   ]
  },
  {
   "cell_type": "code",
   "execution_count": 184,
   "id": "bca9e1a0-39a9-4dd7-872e-cce630a93a81",
   "metadata": {},
   "outputs": [],
   "source": [
    "## Definição do tabuleiro\n",
    "# initial_puzzle = np.asarray([[1,2,3],\n",
    "#                              [4,None, 5],\n",
    "#                              [6,7,8 ]])\n",
    "\n",
    "# initial_puzzle = np.asarray([[1,8,3],\n",
    "#                              [6,None,4],\n",
    "#                              [7,2,5]])\n",
    "\n",
    "initial_puzzle = board_random.copy()\n",
    "\n",
    "\n",
    "\n",
    "\n",
    "\n",
    "# if not puzzle_shape == initial_puzzle.shape:\n",
    "#     raise 'O tabuleiro inicial é obrigado a obedecer o puzzle_shape'"
   ]
  },
  {
   "cell_type": "code",
   "execution_count": 185,
   "id": "4785f5b0-5fbd-48ae-9a14-7ab9a5a8cbea",
   "metadata": {},
   "outputs": [],
   "source": [
    "def get_number_of_state_table(table):\n",
    "    list_table = [0 if value == None else value for value in list(table.reshape(-1))]\n",
    "    return int(''.join(map(str, list_table)))"
   ]
  },
  {
   "cell_type": "code",
   "execution_count": 186,
   "id": "e3f1c46d-d72e-4a89-8f7e-185dc13155f2",
   "metadata": {},
   "outputs": [],
   "source": [
    "states_known = []"
   ]
  },
  {
   "cell_type": "code",
   "execution_count": 187,
   "id": "47e53eb6-7a50-46fd-aec2-c12fd8147e88",
   "metadata": {},
   "outputs": [],
   "source": [
    "def binary_search_insert_position(lst, value, key_function):\n",
    "    \"\"\"Busca binária para encontrar a posição correta de inserção para manter a lista em ordem crescente.\"\"\"\n",
    "    low, high = 0, len(lst)\n",
    "    while low < high:\n",
    "        mid = (low + high) // 2\n",
    "        mid_val = key_function(lst[mid])\n",
    "        if mid_val > value:\n",
    "            high = mid\n",
    "        else:\n",
    "            low = mid + 1\n",
    "    return low\n",
    "\n",
    "def insert_into_sorted_list(lst, item, key_function):\n",
    "    \"\"\"\n",
    "    Insere um item na lista de forma ordenada (crescente) usando uma busca binária.\n",
    "\n",
    "    :param lst: Lista ordenada de itens.\n",
    "    :param item: Item a ser inserido.\n",
    "    :param key_function: Função para extrair a chave de ordenação do item.\n",
    "    \"\"\"\n",
    "    position = binary_search_insert_position(lst, key_function(item), key_function)\n",
    "    lst.insert(position, item)"
   ]
  },
  {
   "cell_type": "code",
   "execution_count": 188,
   "id": "3748d2df-d1ed-4e20-b789-b6dfca97d303",
   "metadata": {},
   "outputs": [],
   "source": [
    "def binary_search_insert_position_lst_cumum(lst, value):\n",
    "    \"\"\"Busca binária para encontrar a posição correta de inserção para manter a lista em ordem crescente.\"\"\"\n",
    "    low, high = 0, len(lst)\n",
    "    while low < high:\n",
    "        mid = (low + high) // 2\n",
    "        mid_val = lst[mid]\n",
    "        if mid_val > value:\n",
    "            high = mid\n",
    "        else:\n",
    "            low = mid + 1\n",
    "    return low\n",
    "\n",
    "def insert_into_sorted_list_lst_cumum(lst, value):\n",
    "    \"\"\"\n",
    "    Insere um valor na lista de forma ordenada (crescente) usando uma busca binária.\n",
    "\n",
    "    :param lst: Lista ordenada de itens.\n",
    "    :param value: Valor a ser inserido.\n",
    "    \"\"\"\n",
    "    position = binary_search_insert_position_lst_cumum(lst, value)\n",
    "    lst.insert(position, value)"
   ]
  },
  {
   "cell_type": "code",
   "execution_count": 189,
   "id": "29d5ecfa-c418-494b-bb42-dc8b6f2bb44f",
   "metadata": {},
   "outputs": [],
   "source": [
    "def binary_search(lst, value):\n",
    "    \"\"\"Verifica se um valor existe em uma lista ordenada usando busca binária.\"\"\"\n",
    "    low, high = 0, len(lst) - 1\n",
    "\n",
    "    while low <= high:\n",
    "        mid = (low + high) // 2\n",
    "        mid_val = lst[mid]\n",
    "\n",
    "        if mid_val == value:\n",
    "            return True\n",
    "        elif mid_val < value:\n",
    "            low = mid + 1\n",
    "        else:\n",
    "            high = mid - 1\n",
    "    return False"
   ]
  },
  {
   "cell_type": "code",
   "execution_count": 190,
   "id": "fd93a9ce-1fd9-4765-adff-d8dbc5efca4f",
   "metadata": {},
   "outputs": [],
   "source": [
    "def find_puzzle_in_list(puzzle_list, target_puzzle):\n",
    "    for idx, item in enumerate(puzzle_list):\n",
    "        if np.array_equal(item['id_puzzle'], target_puzzle):\n",
    "            return idx\n",
    "    return None\n"
   ]
  },
  {
   "cell_type": "code",
   "execution_count": null,
   "id": "e94b0526-2ef4-4873-9d6a-3948a02d3121",
   "metadata": {},
   "outputs": [],
   "source": []
  },
  {
   "cell_type": "code",
   "execution_count": 191,
   "id": "8e90ea8f-0e59-4833-a785-0d91582caff7",
   "metadata": {},
   "outputs": [],
   "source": [
    "import time"
   ]
  },
  {
   "cell_type": "code",
   "execution_count": 192,
   "id": "5c19e366-469e-46f2-b9f1-98cadaddc991",
   "metadata": {
    "tags": []
   },
   "outputs": [],
   "source": [
    "def a_star_search(initial_puzzle, heuristic='h2'):\n",
    "    global priority_queue, new_structure\n",
    "    #priority_queue = []\n",
    "    states_known = []\n",
    "    solucao_otima = {}\n",
    "    puzzles_known = {}\n",
    "    if heuristic=='h1':\n",
    "        heuristic_function = h1\n",
    "    elif heuristic=='h2':\n",
    "        heuristic_function = h2\n",
    "    else:\n",
    "        return\n",
    "\n",
    "    ## Gera os primeiros filhos.\n",
    "    children = expands_new_states(initial_puzzle)\n",
    "    for action, child in zip(children[0], children[1]):\n",
    "        new_structure = structure(action, [action], child, heuristic_function(child), heuristic_function(child), 1)\n",
    "        insert(priority_queue, new_structure)\n",
    "\n",
    "\n",
    "    executions = 0\n",
    "    time_begin = time.time()\n",
    "    tempo_total=0\n",
    "    solvable=True\n",
    "    while True:\n",
    "\n",
    "        child_expanding = priority_queue.pop(0)\n",
    "        # if not get_number_of_state_table(child_expanding['puzzle']) in states_known:\n",
    "        #         states_known.append(get_number_of_state_table(child_expanding['puzzle']))\n",
    "        # else:\n",
    "        #     continue\n",
    "        #states_known.append(get_number_of_state_table(child_expanding['puzzle']))    \n",
    "        if child_expanding['heuristic'] == 0:\n",
    "            print('Encontrou a solução ótima')\n",
    "            solucao_otima = child_expanding\n",
    "            break\n",
    "        children = expands_new_states(child_expanding['puzzle'])\n",
    "        for action, child in zip(children[0], children[1]):\n",
    "            new_structure = structure(action, child_expanding['actions']+[action], child, heuristic_function(child), \n",
    "                                      child_expanding['hn']+heuristic_function(child), child_expanding['depth']+1)\n",
    "            #insert(priority_queue, new_structure)\n",
    "            id_puzzle = get_number_of_state_table(new_structure['puzzle'])\n",
    "            if not binary_search(states_known, id_puzzle):\n",
    "                puzzles_known[id_puzzle] = new_structure['fn']\n",
    "                insert_into_sorted_list(priority_queue, new_structure, key_function=lambda x: x['fn'])\n",
    "                insert_into_sorted_list_lst_cumum(states_known, get_number_of_state_table(new_structure['puzzle']))\n",
    "                #states_known.append(get_number_of_state_table(new_structure['puzzle']))  \n",
    "            else:\n",
    "                ## Se o estado já for conhecido, vamos comparar se o novo estado é melhor que o estado já conhecido.\n",
    "                if new_structure['fn'] < puzzles_known[id_puzzle]:\n",
    "                    pos_puzzle_on_priority_queue = find_puzzle_in_list(priority_queue, id_puzzle)\n",
    "                    if pos_puzzle_on_priority_queue != None:\n",
    "                        # Se o puzzle estiver na fila de prioridade.\n",
    "                        priority_queue.pop(pos_puzzle_on_priority_queue)\n",
    "                        insert_into_sorted_list(priority_queue, new_structure, key_function=lambda x: x['fn'])\n",
    "                    else:\n",
    "                        # Se o puzzle já não estiver mais na fila de prioridade.\n",
    "                        insert_into_sorted_list(priority_queue, new_structure, key_function=lambda x: x['fn'])\n",
    "                    ## Por fim atualizamos o valor desse puzzle\n",
    "                    puzzles_known[id_puzzle] = new_structure['fn']\n",
    "                \n",
    "        if executions % 10000 == 0:\n",
    "            time_end = time.time()\n",
    "            tempo_total += (time_end - time_begin) \n",
    "            print('Iteração: {}'.format(executions))\n",
    "            print('\\t-Quantidade de nós na fila: {}'.format(len(priority_queue)))\n",
    "            print('\\t-Estados já conhecidos: {}'.format(len(states_known)))\n",
    "            print('\\t-Tempo de processamento: {}s'.format(round((time_end - time_begin), 2)))\n",
    "            print('\\t-Tempo de processamento total: {}s'.format(round(tempo_total, 2)))\n",
    "\n",
    "            time_begin = time.time()\n",
    "        executions+=1\n",
    "        if len(priority_queue) == 0:\n",
    "            solvable=False\n",
    "            print('Não há para este problema!')\n",
    "            break\n",
    "            \n",
    "    return solucao_otima, {\n",
    "        'board': get_number_of_state_table(initial_puzzle),\n",
    "        'estados_descobertos': [len(states_known)],\n",
    "        'estados_restantes_lista_fim_execucao': [len(priority_queue)],\n",
    "        'iteracoes': [executions],\n",
    "        'heuristic_function': [heuristic],\n",
    "        'tempo_processamento': [round(tempo_total, 2)],\n",
    "        'solvable': [solvable],\n",
    "        'depth': [solucao_otima['depth']]\n",
    "    }"
   ]
  },
  {
   "cell_type": "code",
   "execution_count": 193,
   "id": "e8e36117-8c0d-4c3a-8498-c98e53a2b78d",
   "metadata": {},
   "outputs": [],
   "source": [
    "board_random = np.asarray([\n",
    "    [1, 2, 3],\n",
    "    [4, 5, 6],\n",
    "    [8, 7, None]\n",
    "])"
   ]
  },
  {
   "cell_type": "markdown",
   "id": "26f0c2f1-b96c-4669-a5df-59d6c0943f05",
   "metadata": {
    "tags": []
   },
   "source": [
    "### Experimento único"
   ]
  },
  {
   "cell_type": "code",
   "execution_count": 194,
   "id": "10bb8ebd-8044-455b-a788-f6348c8581c4",
   "metadata": {},
   "outputs": [],
   "source": [
    "priority_queue = []\n",
    "new_structure = ''"
   ]
  },
  {
   "cell_type": "code",
   "execution_count": 195,
   "id": "ec482e58-a93a-4c4a-9ab8-ef04079c8365",
   "metadata": {},
   "outputs": [],
   "source": [
    "board_random = random_board_solvable(randomize=500)"
   ]
  },
  {
   "cell_type": "code",
   "execution_count": 196,
   "id": "21e18c95-07fe-44e3-8141-89b23657e168",
   "metadata": {},
   "outputs": [],
   "source": [
    "board_random = np.asarray([[7, 4, 5],\n",
    "       [2, 3, 1],\n",
    "       [6, 8, None]])"
   ]
  },
  {
   "cell_type": "code",
   "execution_count": 197,
   "id": "90a7abe5-9156-4ff0-9ac7-949226d9b436",
   "metadata": {},
   "outputs": [
    {
     "name": "stdout",
     "output_type": "stream",
     "text": [
      "Iteração: 0\n",
      "\t-Quantidade de nós na fila: 4\n",
      "\t-Estados já conhecidos: 3\n",
      "\t-Tempo de processamento: 0.0s\n",
      "\t-Tempo de processamento total: 0.0s\n",
      "Iteração: 10000\n",
      "\t-Quantidade de nós na fila: 5272\n",
      "\t-Estados já conhecidos: 15271\n",
      "\t-Tempo de processamento: 2.11s\n",
      "\t-Tempo de processamento total: 2.11s\n",
      "Iteração: 20000\n",
      "\t-Quantidade de nós na fila: 10061\n",
      "\t-Estados já conhecidos: 30060\n",
      "\t-Tempo de processamento: 2.31s\n",
      "\t-Tempo de processamento total: 4.42s\n",
      "Iteração: 30000\n",
      "\t-Quantidade de nós na fila: 12851\n",
      "\t-Estados já conhecidos: 42850\n",
      "\t-Tempo de processamento: 2.18s\n",
      "\t-Tempo de processamento total: 6.6s\n",
      "Iteração: 40000\n",
      "\t-Quantidade de nós na fila: 17198\n",
      "\t-Estados já conhecidos: 57197\n",
      "\t-Tempo de processamento: 2.64s\n",
      "\t-Tempo de processamento total: 9.24s\n",
      "Iteração: 50000\n",
      "\t-Quantidade de nós na fila: 17640\n",
      "\t-Estados já conhecidos: 67639\n",
      "\t-Tempo de processamento: 2.5s\n",
      "\t-Tempo de processamento total: 11.74s\n",
      "Iteração: 60000\n",
      "\t-Quantidade de nós na fila: 19733\n",
      "\t-Estados já conhecidos: 79732\n",
      "\t-Tempo de processamento: 3.05s\n",
      "\t-Tempo de processamento total: 14.78s\n",
      "Iteração: 70000\n",
      "\t-Quantidade de nós na fila: 23169\n",
      "\t-Estados já conhecidos: 93168\n",
      "\t-Tempo de processamento: 2.79s\n",
      "\t-Tempo de processamento total: 17.57s\n",
      "Iteração: 80000\n",
      "\t-Quantidade de nós na fila: 23459\n",
      "\t-Estados já conhecidos: 103458\n",
      "\t-Tempo de processamento: 2.45s\n",
      "\t-Tempo de processamento total: 20.02s\n",
      "Iteração: 90000\n",
      "\t-Quantidade de nós na fila: 22063\n",
      "\t-Estados já conhecidos: 112062\n",
      "\t-Tempo de processamento: 2.28s\n",
      "\t-Tempo de processamento total: 22.3s\n",
      "Iteração: 100000\n",
      "\t-Quantidade de nós na fila: 21506\n",
      "\t-Estados já conhecidos: 121505\n",
      "\t-Tempo de processamento: 2.46s\n",
      "\t-Tempo de processamento total: 24.76s\n",
      "Iteração: 110000\n",
      "\t-Quantidade de nós na fila: 23442\n",
      "\t-Estados já conhecidos: 133441\n",
      "\t-Tempo de processamento: 2.93s\n",
      "\t-Tempo de processamento total: 27.69s\n",
      "Iteração: 120000\n",
      "\t-Quantidade de nós na fila: 23172\n",
      "\t-Estados já conhecidos: 143171\n",
      "\t-Tempo de processamento: 2.63s\n",
      "\t-Tempo de processamento total: 30.32s\n",
      "Iteração: 130000\n",
      "\t-Quantidade de nós na fila: 20172\n",
      "\t-Estados já conhecidos: 150171\n",
      "\t-Tempo de processamento: 2.25s\n",
      "\t-Tempo de processamento total: 32.57s\n",
      "Iteração: 140000\n",
      "\t-Quantidade de nós na fila: 16486\n",
      "\t-Estados já conhecidos: 156485\n",
      "\t-Tempo de processamento: 2.23s\n",
      "\t-Tempo de processamento total: 34.8s\n",
      "Encontrou a solução ótima\n"
     ]
    }
   ],
   "source": [
    "result = a_star_search(board_random, heuristic='h1')"
   ]
  },
  {
   "cell_type": "code",
   "execution_count": 198,
   "id": "13ca66a1-7da4-4b78-91dd-097de397b468",
   "metadata": {},
   "outputs": [
    {
     "data": {
      "text/plain": [
       "({'action': 'bottom',\n",
       "  'actions': ['left',\n",
       "   'left',\n",
       "   'top',\n",
       "   'top',\n",
       "   'right',\n",
       "   'bottom',\n",
       "   'right',\n",
       "   'top',\n",
       "   'left',\n",
       "   'bottom',\n",
       "   'bottom',\n",
       "   'left',\n",
       "   'top',\n",
       "   'top',\n",
       "   'right',\n",
       "   'right',\n",
       "   'bottom',\n",
       "   'left',\n",
       "   'bottom',\n",
       "   'right',\n",
       "   'top',\n",
       "   'top',\n",
       "   'left',\n",
       "   'bottom',\n",
       "   'right',\n",
       "   'bottom'],\n",
       "  'puzzle': array([[1, 2, 3],\n",
       "         [4, 5, 6],\n",
       "         [7, 8, None]], dtype=object),\n",
       "  'heuristic': 0,\n",
       "  'fn': 517,\n",
       "  'depth': 26,\n",
       "  'id_puzzle': 123456780},\n",
       " {'board': 745231680,\n",
       "  'estados_descobertos': [159881],\n",
       "  'estados_restantes_lista_fim_execucao': [15779],\n",
       "  'iteracoes': [144103],\n",
       "  'heuristic_function': ['h1'],\n",
       "  'tempo_processamento': [34.8],\n",
       "  'solvable': [True],\n",
       "  'depth': [26]})"
      ]
     },
     "execution_count": 198,
     "metadata": {},
     "output_type": "execute_result"
    }
   ],
   "source": [
    "result"
   ]
  },
  {
   "cell_type": "code",
   "execution_count": 201,
   "id": "0c47dcbb-51f9-4c18-9852-cf537ae86dae",
   "metadata": {
    "scrolled": true,
    "tags": []
   },
   "outputs": [],
   "source": [
    "elementos = [ip['id_puzzle'] for ip in priority_queue]"
   ]
  },
  {
   "cell_type": "code",
   "execution_count": null,
   "id": "c26b4d01-06a5-4bbc-8215-1f82b55ec04c",
   "metadata": {},
   "outputs": [],
   "source": []
  },
  {
   "cell_type": "code",
   "execution_count": 109,
   "id": "ba7890f9-0c29-4b24-951a-bb9a8b5b9edd",
   "metadata": {},
   "outputs": [
    {
     "data": {
      "text/plain": [
       "False"
      ]
     },
     "execution_count": 109,
     "metadata": {},
     "output_type": "execute_result"
    }
   ],
   "source": [
    "priority_queue[1]['fn'] > new_structure['fn']"
   ]
  },
  {
   "cell_type": "code",
   "execution_count": 108,
   "id": "7c8ca2f7-b425-41bf-8c07-d295989fa6b5",
   "metadata": {},
   "outputs": [
    {
     "data": {
      "text/plain": [
       "54"
      ]
     },
     "execution_count": 108,
     "metadata": {},
     "output_type": "execute_result"
    }
   ],
   "source": [
    "priority_queue[1]['fn']"
   ]
  },
  {
   "cell_type": "code",
   "execution_count": 102,
   "id": "698246e8-0d44-46aa-911f-4c4ebbbafec6",
   "metadata": {},
   "outputs": [
    {
     "data": {
      "text/plain": [
       "{'action': 'top',\n",
       " 'actions': ['top', 'bottom', 'top', 'top'],\n",
       " 'puzzle': array([[7, 4, None],\n",
       "        [2, 3, 5],\n",
       "        [6, 8, 1]], dtype=object),\n",
       " 'heuristic': 18,\n",
       " 'total_heuristic': 70,\n",
       " 'depth': 4,\n",
       " 'id_puzzle': 740235681}"
      ]
     },
     "execution_count": 102,
     "metadata": {},
     "output_type": "execute_result"
    }
   ],
   "source": [
    "new_structure"
   ]
  },
  {
   "cell_type": "code",
   "execution_count": 68,
   "id": "5e9dbaab-e3c9-4c55-bf84-2f8358103038",
   "metadata": {},
   "outputs": [
    {
     "data": {
      "text/plain": [
       "5918"
      ]
     },
     "execution_count": 68,
     "metadata": {},
     "output_type": "execute_result"
    }
   ],
   "source": [
    "len(priority_queue)"
   ]
  },
  {
   "cell_type": "code",
   "execution_count": 93,
   "id": "f2bb1053-9de1-43b7-8797-036f78d02088",
   "metadata": {},
   "outputs": [
    {
     "data": {
      "text/plain": [
       "{'action': 'right',\n",
       " 'actions': ['left',\n",
       "  'left',\n",
       "  'top',\n",
       "  'top',\n",
       "  'right',\n",
       "  'right',\n",
       "  'bottom',\n",
       "  'left',\n",
       "  'bottom',\n",
       "  'right',\n",
       "  'top',\n",
       "  'top',\n",
       "  'left',\n",
       "  'bottom',\n",
       "  'left',\n",
       "  'top',\n",
       "  'right'],\n",
       " 'puzzle': array([[6, None, 5],\n",
       "        [4, 7, 1],\n",
       "        [2, 8, 3]], dtype=object),\n",
       " 'heuristic': 18,\n",
       " 'total_heuristic': 272,\n",
       " 'depth': 17,\n",
       " 'id_puzzle': 605471283}"
      ]
     },
     "execution_count": 93,
     "metadata": {},
     "output_type": "execute_result"
    }
   ],
   "source": [
    "priority_queue[100]"
   ]
  },
  {
   "cell_type": "code",
   "execution_count": 94,
   "id": "2e2ef092-69cd-4792-acc4-fa044f06a234",
   "metadata": {},
   "outputs": [
    {
     "data": {
      "text/plain": [
       "100"
      ]
     },
     "execution_count": 94,
     "metadata": {},
     "output_type": "execute_result"
    }
   ],
   "source": [
    "find_puzzle_in_list(priority_queue, 605471283)"
   ]
  },
  {
   "cell_type": "code",
   "execution_count": 69,
   "id": "efdacd3c-96b3-4af1-8f5f-389e651c89c9",
   "metadata": {},
   "outputs": [
    {
     "data": {
      "text/plain": [
       "{'action': 'left',\n",
       " 'actions': ['left',\n",
       "  'top',\n",
       "  'right',\n",
       "  'top',\n",
       "  'left',\n",
       "  'bottom',\n",
       "  'right',\n",
       "  'bottom',\n",
       "  'left',\n",
       "  'left',\n",
       "  'top',\n",
       "  'top',\n",
       "  'right',\n",
       "  'bottom',\n",
       "  'bottom',\n",
       "  'left'],\n",
       " 'puzzle': array([[1, 5, 4],\n",
       "        [7, 6, 8],\n",
       "        [None, 2, 3]], dtype=object),\n",
       " 'heuristic': 14,\n",
       " 'total_heuristic': 272,\n",
       " 'depth': 16,\n",
       " 'id_puzzle': 154768023}"
      ]
     },
     "execution_count": 69,
     "metadata": {},
     "output_type": "execute_result"
    }
   ],
   "source": [
    "priority_queue[367]"
   ]
  },
  {
   "cell_type": "code",
   "execution_count": 84,
   "id": "1d5605ce-2167-4c47-9d40-1f977e3d4c6a",
   "metadata": {},
   "outputs": [],
   "source": [
    "puzz = priority_queue[423]\n",
    "idx_remove = find_puzzle_in_list(priority_queue, 732685401)"
   ]
  },
  {
   "cell_type": "code",
   "execution_count": 87,
   "id": "7c65a651-a6e1-4476-b9f1-a5f90bb46259",
   "metadata": {},
   "outputs": [],
   "source": [
    "pop_value = priority_queue.pop(idx_remove)"
   ]
  },
  {
   "cell_type": "code",
   "execution_count": 85,
   "id": "e47ffe27-803f-42c8-9d7e-204ffe228a24",
   "metadata": {},
   "outputs": [
    {
     "data": {
      "text/plain": [
       "{'action': 'bottom',\n",
       " 'actions': ['top',\n",
       "  'left',\n",
       "  'top',\n",
       "  'right',\n",
       "  'bottom',\n",
       "  'bottom',\n",
       "  'left',\n",
       "  'top',\n",
       "  'left',\n",
       "  'bottom',\n",
       "  'right',\n",
       "  'right',\n",
       "  'top',\n",
       "  'left',\n",
       "  'top',\n",
       "  'right',\n",
       "  'bottom',\n",
       "  'left',\n",
       "  'bottom'],\n",
       " 'puzzle': array([[7, 3, 2],\n",
       "        [6, 8, 5],\n",
       "        [4, None, 1]], dtype=object),\n",
       " 'heuristic': 14,\n",
       " 'total_heuristic': 272,\n",
       " 'depth': 19,\n",
       " 'id_puzzle': 732685401}"
      ]
     },
     "execution_count": 85,
     "metadata": {},
     "output_type": "execute_result"
    }
   ],
   "source": [
    "puzz"
   ]
  },
  {
   "cell_type": "code",
   "execution_count": 32,
   "id": "219494c5-50da-4f9a-95d1-84310965171e",
   "metadata": {},
   "outputs": [],
   "source": [
    "search = priority_queue[423]"
   ]
  },
  {
   "cell_type": "code",
   "execution_count": 34,
   "id": "eb124e43-65e5-4e80-acb1-4da11000f07b",
   "metadata": {},
   "outputs": [],
   "source": [
    "key_function = key_function=lambda x: x['fn']"
   ]
  },
  {
   "cell_type": "code",
   "execution_count": 35,
   "id": "9491e95b-91b4-4fb7-a5d2-9cbe5764ef87",
   "metadata": {},
   "outputs": [
    {
     "data": {
      "text/plain": [
       "566"
      ]
     },
     "execution_count": 35,
     "metadata": {},
     "output_type": "execute_result"
    }
   ],
   "source": [
    "binary_search_insert_position(priority_queue, key_function(search), key_function)"
   ]
  },
  {
   "cell_type": "markdown",
   "id": "5b85ceab-bfae-481e-b086-3535382cdf57",
   "metadata": {
    "tags": []
   },
   "source": [
    "## Experimento de diversos estados."
   ]
  },
  {
   "cell_type": "code",
   "execution_count": null,
   "id": "c5db207c-506f-4b1f-985b-ca3784f00838",
   "metadata": {},
   "outputs": [],
   "source": [
    "import pandas as pd"
   ]
  },
  {
   "cell_type": "code",
   "execution_count": null,
   "id": "fa4c6548-4730-4cd9-a21b-4de2a2494a26",
   "metadata": {},
   "outputs": [],
   "source": [
    "board_without_soluction = np.asarray([\n",
    "    [1, 2, 3],\n",
    "    [4, 5, 6],\n",
    "    [8, 7, None]\n",
    "])"
   ]
  },
  {
   "cell_type": "code",
   "execution_count": null,
   "id": "7038e008-b9f3-4753-ac31-afb1be9fda49",
   "metadata": {},
   "outputs": [],
   "source": [
    "boards = [random_board_solvable(randomize=500) for rnd in range(500, 10000, 500)]\n",
    "boards.append(board_without_soluction) \n",
    "len(boards)"
   ]
  },
  {
   "cell_type": "code",
   "execution_count": null,
   "id": "7f7fa5ef-0abd-44d6-83ef-879b6531a563",
   "metadata": {},
   "outputs": [],
   "source": [
    "result = a_star_search(initial_puzzle)"
   ]
  },
  {
   "cell_type": "code",
   "execution_count": 33,
   "id": "b5c6a88f-801b-4d4d-aaf3-79a7f0baa471",
   "metadata": {
    "scrolled": true,
    "tags": []
   },
   "outputs": [
    {
     "ename": "NameError",
     "evalue": "name 'boards' is not defined",
     "output_type": "error",
     "traceback": [
      "\u001b[1;31m---------------------------------------------------------------------------\u001b[0m",
      "\u001b[1;31mNameError\u001b[0m                                 Traceback (most recent call last)",
      "\u001b[1;32m~\\AppData\\Local\\Temp\\ipykernel_2576\\2265101918.py\u001b[0m in \u001b[0;36m<module>\u001b[1;34m\u001b[0m\n\u001b[0;32m      1\u001b[0m \u001b[0mdf_resultados\u001b[0m \u001b[1;33m=\u001b[0m \u001b[0mpd\u001b[0m\u001b[1;33m.\u001b[0m\u001b[0mDataFrame\u001b[0m\u001b[1;33m(\u001b[0m\u001b[1;33m)\u001b[0m\u001b[1;33m\u001b[0m\u001b[1;33m\u001b[0m\u001b[0m\n\u001b[0;32m      2\u001b[0m \u001b[1;32mfor\u001b[0m \u001b[0mheuristic\u001b[0m \u001b[1;32min\u001b[0m \u001b[1;33m[\u001b[0m\u001b[1;34m'h1'\u001b[0m\u001b[1;33m,\u001b[0m \u001b[1;34m'h2'\u001b[0m\u001b[1;33m]\u001b[0m\u001b[1;33m:\u001b[0m\u001b[1;33m\u001b[0m\u001b[1;33m\u001b[0m\u001b[0m\n\u001b[1;32m----> 3\u001b[1;33m     \u001b[1;32mfor\u001b[0m \u001b[0mboard\u001b[0m \u001b[1;32min\u001b[0m \u001b[0mboards\u001b[0m\u001b[1;33m:\u001b[0m\u001b[1;33m\u001b[0m\u001b[1;33m\u001b[0m\u001b[0m\n\u001b[0m\u001b[0;32m      4\u001b[0m         \u001b[0mprint\u001b[0m\u001b[1;33m(\u001b[0m\u001b[1;34m'*******************************************************************************************************'\u001b[0m\u001b[1;33m)\u001b[0m\u001b[1;33m\u001b[0m\u001b[1;33m\u001b[0m\u001b[0m\n\u001b[0;32m      5\u001b[0m         \u001b[0mprint\u001b[0m\u001b[1;33m(\u001b[0m\u001b[1;34m'Executando:'\u001b[0m\u001b[1;33m)\u001b[0m\u001b[1;33m\u001b[0m\u001b[1;33m\u001b[0m\u001b[0m\n",
      "\u001b[1;31mNameError\u001b[0m: name 'boards' is not defined"
     ]
    }
   ],
   "source": [
    "df_resultados = pd.DataFrame()\n",
    "for heuristic in ['h1', 'h2']:\n",
    "    for board in boards:\n",
    "        print('*******************************************************************************************************')\n",
    "        print('Executando:')\n",
    "        print('\\t-Heuristica: {}'.format(heuristic))\n",
    "        print('\\t-Tabuleiro: {}'.format(get_number_of_state_table(board)))\n",
    "        print('*******************************************************************************************************')\n",
    "        print()\n",
    "        result = a_star_search(board, heuristic)\n",
    "        df_aux = pd.DataFrame(result[1])\n",
    "        \n",
    "        df_resultados = df_resultados.append(df_aux)"
   ]
  },
  {
   "cell_type": "code",
   "execution_count": null,
   "id": "7850652f-5b3f-4dcd-bd56-9cbe5b14b59d",
   "metadata": {},
   "outputs": [],
   "source": [
    "df_resultados.reset_index(drop=True, inplace=True)"
   ]
  },
  {
   "cell_type": "code",
   "execution_count": null,
   "id": "f7c84833-d8da-4e4f-b860-3bd0486a881e",
   "metadata": {},
   "outputs": [],
   "source": [
    "#df_resultados.to_csv('resultados.csv', index=False)"
   ]
  },
  {
   "cell_type": "code",
   "execution_count": null,
   "id": "f4aff6e0-52a9-4e69-ae9d-3146e7f7c0cf",
   "metadata": {},
   "outputs": [],
   "source": []
  },
  {
   "cell_type": "markdown",
   "id": "50bb08eb-0253-4816-8703-c6ae97efc8ad",
   "metadata": {},
   "source": [
    "## Visualizar tabela de comparação"
   ]
  },
  {
   "cell_type": "code",
   "execution_count": 34,
   "id": "2cf3b70d-ccb2-4a3d-83b6-c93115e77b46",
   "metadata": {},
   "outputs": [],
   "source": [
    "df_resultados = pd.read_csv('resultados.csv')"
   ]
  },
  {
   "cell_type": "code",
   "execution_count": 37,
   "id": "87656df9-1c05-44d8-b6e5-3963b7bcc254",
   "metadata": {},
   "outputs": [
    {
     "data": {
      "text/html": [
       "<div>\n",
       "<style scoped>\n",
       "    .dataframe tbody tr th:only-of-type {\n",
       "        vertical-align: middle;\n",
       "    }\n",
       "\n",
       "    .dataframe tbody tr th {\n",
       "        vertical-align: top;\n",
       "    }\n",
       "\n",
       "    .dataframe thead th {\n",
       "        text-align: right;\n",
       "    }\n",
       "</style>\n",
       "<table border=\"1\" class=\"dataframe\">\n",
       "  <thead>\n",
       "    <tr style=\"text-align: right;\">\n",
       "      <th></th>\n",
       "      <th>board</th>\n",
       "      <th>estados_descobertos</th>\n",
       "      <th>estados_restantes_lista_fim_execucao</th>\n",
       "      <th>iteracoes</th>\n",
       "      <th>heuristic_function</th>\n",
       "      <th>tempo_processamento</th>\n",
       "      <th>solvable</th>\n",
       "    </tr>\n",
       "  </thead>\n",
       "  <tbody>\n",
       "    <tr>\n",
       "      <th>37</th>\n",
       "      <td>13268745</td>\n",
       "      <td>10597</td>\n",
       "      <td>3776</td>\n",
       "      <td>6822</td>\n",
       "      <td>h2</td>\n",
       "      <td>0.00</td>\n",
       "      <td>True</td>\n",
       "    </tr>\n",
       "    <tr>\n",
       "      <th>17</th>\n",
       "      <td>13268745</td>\n",
       "      <td>14149</td>\n",
       "      <td>4997</td>\n",
       "      <td>9153</td>\n",
       "      <td>h1</td>\n",
       "      <td>0.00</td>\n",
       "      <td>True</td>\n",
       "    </tr>\n",
       "    <tr>\n",
       "      <th>1</th>\n",
       "      <td>48713526</td>\n",
       "      <td>10087</td>\n",
       "      <td>3609</td>\n",
       "      <td>6479</td>\n",
       "      <td>h1</td>\n",
       "      <td>0.00</td>\n",
       "      <td>True</td>\n",
       "    </tr>\n",
       "    <tr>\n",
       "      <th>21</th>\n",
       "      <td>48713526</td>\n",
       "      <td>3957</td>\n",
       "      <td>1478</td>\n",
       "      <td>2480</td>\n",
       "      <td>h2</td>\n",
       "      <td>0.00</td>\n",
       "      <td>True</td>\n",
       "    </tr>\n",
       "    <tr>\n",
       "      <th>2</th>\n",
       "      <td>86417235</td>\n",
       "      <td>32292</td>\n",
       "      <td>10522</td>\n",
       "      <td>21771</td>\n",
       "      <td>h1</td>\n",
       "      <td>4.28</td>\n",
       "      <td>True</td>\n",
       "    </tr>\n",
       "    <tr>\n",
       "      <th>22</th>\n",
       "      <td>86417235</td>\n",
       "      <td>9361</td>\n",
       "      <td>3414</td>\n",
       "      <td>5948</td>\n",
       "      <td>h2</td>\n",
       "      <td>0.00</td>\n",
       "      <td>True</td>\n",
       "    </tr>\n",
       "    <tr>\n",
       "      <th>19</th>\n",
       "      <td>123456870</td>\n",
       "      <td>181440</td>\n",
       "      <td>0</td>\n",
       "      <td>181442</td>\n",
       "      <td>h1</td>\n",
       "      <td>36.36</td>\n",
       "      <td>False</td>\n",
       "    </tr>\n",
       "    <tr>\n",
       "      <th>39</th>\n",
       "      <td>123456870</td>\n",
       "      <td>181440</td>\n",
       "      <td>0</td>\n",
       "      <td>181442</td>\n",
       "      <td>h2</td>\n",
       "      <td>115.85</td>\n",
       "      <td>False</td>\n",
       "    </tr>\n",
       "    <tr>\n",
       "      <th>16</th>\n",
       "      <td>253801476</td>\n",
       "      <td>2222</td>\n",
       "      <td>851</td>\n",
       "      <td>1374</td>\n",
       "      <td>h1</td>\n",
       "      <td>0.00</td>\n",
       "      <td>True</td>\n",
       "    </tr>\n",
       "    <tr>\n",
       "      <th>36</th>\n",
       "      <td>253801476</td>\n",
       "      <td>966</td>\n",
       "      <td>383</td>\n",
       "      <td>586</td>\n",
       "      <td>h2</td>\n",
       "      <td>0.00</td>\n",
       "      <td>True</td>\n",
       "    </tr>\n",
       "    <tr>\n",
       "      <th>33</th>\n",
       "      <td>260847531</td>\n",
       "      <td>47970</td>\n",
       "      <td>14248</td>\n",
       "      <td>33723</td>\n",
       "      <td>h2</td>\n",
       "      <td>22.20</td>\n",
       "      <td>True</td>\n",
       "    </tr>\n",
       "    <tr>\n",
       "      <th>13</th>\n",
       "      <td>260847531</td>\n",
       "      <td>98387</td>\n",
       "      <td>22785</td>\n",
       "      <td>75603</td>\n",
       "      <td>h1</td>\n",
       "      <td>15.20</td>\n",
       "      <td>True</td>\n",
       "    </tr>\n",
       "    <tr>\n",
       "      <th>20</th>\n",
       "      <td>267431058</td>\n",
       "      <td>19499</td>\n",
       "      <td>6686</td>\n",
       "      <td>12814</td>\n",
       "      <td>h2</td>\n",
       "      <td>5.89</td>\n",
       "      <td>True</td>\n",
       "    </tr>\n",
       "    <tr>\n",
       "      <th>0</th>\n",
       "      <td>267431058</td>\n",
       "      <td>45903</td>\n",
       "      <td>13793</td>\n",
       "      <td>32111</td>\n",
       "      <td>h1</td>\n",
       "      <td>5.56</td>\n",
       "      <td>True</td>\n",
       "    </tr>\n",
       "    <tr>\n",
       "      <th>31</th>\n",
       "      <td>274608351</td>\n",
       "      <td>36684</td>\n",
       "      <td>11798</td>\n",
       "      <td>24889</td>\n",
       "      <td>h2</td>\n",
       "      <td>11.53</td>\n",
       "      <td>True</td>\n",
       "    </tr>\n",
       "    <tr>\n",
       "      <th>11</th>\n",
       "      <td>274608351</td>\n",
       "      <td>118958</td>\n",
       "      <td>23785</td>\n",
       "      <td>95176</td>\n",
       "      <td>h1</td>\n",
       "      <td>16.46</td>\n",
       "      <td>True</td>\n",
       "    </tr>\n",
       "    <tr>\n",
       "      <th>14</th>\n",
       "      <td>487532016</td>\n",
       "      <td>98502</td>\n",
       "      <td>22614</td>\n",
       "      <td>75889</td>\n",
       "      <td>h1</td>\n",
       "      <td>14.36</td>\n",
       "      <td>True</td>\n",
       "    </tr>\n",
       "    <tr>\n",
       "      <th>34</th>\n",
       "      <td>487532016</td>\n",
       "      <td>37802</td>\n",
       "      <td>11883</td>\n",
       "      <td>25920</td>\n",
       "      <td>h2</td>\n",
       "      <td>14.11</td>\n",
       "      <td>True</td>\n",
       "    </tr>\n",
       "    <tr>\n",
       "      <th>10</th>\n",
       "      <td>516304728</td>\n",
       "      <td>5685</td>\n",
       "      <td>2107</td>\n",
       "      <td>3581</td>\n",
       "      <td>h1</td>\n",
       "      <td>0.00</td>\n",
       "      <td>True</td>\n",
       "    </tr>\n",
       "    <tr>\n",
       "      <th>30</th>\n",
       "      <td>516304728</td>\n",
       "      <td>3008</td>\n",
       "      <td>1124</td>\n",
       "      <td>1887</td>\n",
       "      <td>h2</td>\n",
       "      <td>0.00</td>\n",
       "      <td>True</td>\n",
       "    </tr>\n",
       "    <tr>\n",
       "      <th>5</th>\n",
       "      <td>623807514</td>\n",
       "      <td>32061</td>\n",
       "      <td>10264</td>\n",
       "      <td>21800</td>\n",
       "      <td>h1</td>\n",
       "      <td>3.48</td>\n",
       "      <td>True</td>\n",
       "    </tr>\n",
       "    <tr>\n",
       "      <th>25</th>\n",
       "      <td>623807514</td>\n",
       "      <td>11063</td>\n",
       "      <td>3938</td>\n",
       "      <td>7128</td>\n",
       "      <td>h2</td>\n",
       "      <td>0.00</td>\n",
       "      <td>True</td>\n",
       "    </tr>\n",
       "    <tr>\n",
       "      <th>9</th>\n",
       "      <td>678304215</td>\n",
       "      <td>28277</td>\n",
       "      <td>9376</td>\n",
       "      <td>18904</td>\n",
       "      <td>h1</td>\n",
       "      <td>1.52</td>\n",
       "      <td>True</td>\n",
       "    </tr>\n",
       "    <tr>\n",
       "      <th>29</th>\n",
       "      <td>678304215</td>\n",
       "      <td>7683</td>\n",
       "      <td>2867</td>\n",
       "      <td>4819</td>\n",
       "      <td>h2</td>\n",
       "      <td>0.00</td>\n",
       "      <td>True</td>\n",
       "    </tr>\n",
       "    <tr>\n",
       "      <th>28</th>\n",
       "      <td>685732140</td>\n",
       "      <td>15232</td>\n",
       "      <td>5414</td>\n",
       "      <td>9819</td>\n",
       "      <td>h2</td>\n",
       "      <td>0.00</td>\n",
       "      <td>True</td>\n",
       "    </tr>\n",
       "    <tr>\n",
       "      <th>8</th>\n",
       "      <td>685732140</td>\n",
       "      <td>47709</td>\n",
       "      <td>14491</td>\n",
       "      <td>33219</td>\n",
       "      <td>h1</td>\n",
       "      <td>4.96</td>\n",
       "      <td>True</td>\n",
       "    </tr>\n",
       "    <tr>\n",
       "      <th>27</th>\n",
       "      <td>713682054</td>\n",
       "      <td>2898</td>\n",
       "      <td>1092</td>\n",
       "      <td>1807</td>\n",
       "      <td>h2</td>\n",
       "      <td>0.00</td>\n",
       "      <td>True</td>\n",
       "    </tr>\n",
       "    <tr>\n",
       "      <th>7</th>\n",
       "      <td>713682054</td>\n",
       "      <td>6634</td>\n",
       "      <td>2464</td>\n",
       "      <td>4171</td>\n",
       "      <td>h1</td>\n",
       "      <td>0.00</td>\n",
       "      <td>True</td>\n",
       "    </tr>\n",
       "    <tr>\n",
       "      <th>38</th>\n",
       "      <td>720563814</td>\n",
       "      <td>3242</td>\n",
       "      <td>1208</td>\n",
       "      <td>2035</td>\n",
       "      <td>h2</td>\n",
       "      <td>0.00</td>\n",
       "      <td>True</td>\n",
       "    </tr>\n",
       "    <tr>\n",
       "      <th>18</th>\n",
       "      <td>720563814</td>\n",
       "      <td>8502</td>\n",
       "      <td>3062</td>\n",
       "      <td>5441</td>\n",
       "      <td>h1</td>\n",
       "      <td>0.00</td>\n",
       "      <td>True</td>\n",
       "    </tr>\n",
       "    <tr>\n",
       "      <th>15</th>\n",
       "      <td>740653812</td>\n",
       "      <td>29661</td>\n",
       "      <td>9589</td>\n",
       "      <td>20073</td>\n",
       "      <td>h1</td>\n",
       "      <td>3.95</td>\n",
       "      <td>True</td>\n",
       "    </tr>\n",
       "    <tr>\n",
       "      <th>35</th>\n",
       "      <td>740653812</td>\n",
       "      <td>9178</td>\n",
       "      <td>3294</td>\n",
       "      <td>5885</td>\n",
       "      <td>h2</td>\n",
       "      <td>0.00</td>\n",
       "      <td>True</td>\n",
       "    </tr>\n",
       "    <tr>\n",
       "      <th>3</th>\n",
       "      <td>758306124</td>\n",
       "      <td>92722</td>\n",
       "      <td>22020</td>\n",
       "      <td>70705</td>\n",
       "      <td>h1</td>\n",
       "      <td>16.20</td>\n",
       "      <td>True</td>\n",
       "    </tr>\n",
       "    <tr>\n",
       "      <th>23</th>\n",
       "      <td>758306124</td>\n",
       "      <td>23202</td>\n",
       "      <td>7768</td>\n",
       "      <td>15437</td>\n",
       "      <td>h2</td>\n",
       "      <td>5.63</td>\n",
       "      <td>True</td>\n",
       "    </tr>\n",
       "    <tr>\n",
       "      <th>32</th>\n",
       "      <td>820415637</td>\n",
       "      <td>8107</td>\n",
       "      <td>2951</td>\n",
       "      <td>5157</td>\n",
       "      <td>h2</td>\n",
       "      <td>0.00</td>\n",
       "      <td>True</td>\n",
       "    </tr>\n",
       "    <tr>\n",
       "      <th>12</th>\n",
       "      <td>820415637</td>\n",
       "      <td>27120</td>\n",
       "      <td>8981</td>\n",
       "      <td>18140</td>\n",
       "      <td>h1</td>\n",
       "      <td>1.91</td>\n",
       "      <td>True</td>\n",
       "    </tr>\n",
       "    <tr>\n",
       "      <th>4</th>\n",
       "      <td>827306415</td>\n",
       "      <td>86186</td>\n",
       "      <td>21224</td>\n",
       "      <td>64965</td>\n",
       "      <td>h1</td>\n",
       "      <td>11.96</td>\n",
       "      <td>True</td>\n",
       "    </tr>\n",
       "    <tr>\n",
       "      <th>24</th>\n",
       "      <td>827306415</td>\n",
       "      <td>31178</td>\n",
       "      <td>10088</td>\n",
       "      <td>21093</td>\n",
       "      <td>h2</td>\n",
       "      <td>11.83</td>\n",
       "      <td>True</td>\n",
       "    </tr>\n",
       "    <tr>\n",
       "      <th>26</th>\n",
       "      <td>850721364</td>\n",
       "      <td>19360</td>\n",
       "      <td>6676</td>\n",
       "      <td>12685</td>\n",
       "      <td>h2</td>\n",
       "      <td>5.80</td>\n",
       "      <td>True</td>\n",
       "    </tr>\n",
       "    <tr>\n",
       "      <th>6</th>\n",
       "      <td>850721364</td>\n",
       "      <td>46045</td>\n",
       "      <td>13954</td>\n",
       "      <td>32092</td>\n",
       "      <td>h1</td>\n",
       "      <td>4.82</td>\n",
       "      <td>True</td>\n",
       "    </tr>\n",
       "  </tbody>\n",
       "</table>\n",
       "</div>"
      ],
      "text/plain": [
       "        board  estados_descobertos  estados_restantes_lista_fim_execucao  \\\n",
       "37   13268745                10597                                  3776   \n",
       "17   13268745                14149                                  4997   \n",
       "1    48713526                10087                                  3609   \n",
       "21   48713526                 3957                                  1478   \n",
       "2    86417235                32292                                 10522   \n",
       "22   86417235                 9361                                  3414   \n",
       "19  123456870               181440                                     0   \n",
       "39  123456870               181440                                     0   \n",
       "16  253801476                 2222                                   851   \n",
       "36  253801476                  966                                   383   \n",
       "33  260847531                47970                                 14248   \n",
       "13  260847531                98387                                 22785   \n",
       "20  267431058                19499                                  6686   \n",
       "0   267431058                45903                                 13793   \n",
       "31  274608351                36684                                 11798   \n",
       "11  274608351               118958                                 23785   \n",
       "14  487532016                98502                                 22614   \n",
       "34  487532016                37802                                 11883   \n",
       "10  516304728                 5685                                  2107   \n",
       "30  516304728                 3008                                  1124   \n",
       "5   623807514                32061                                 10264   \n",
       "25  623807514                11063                                  3938   \n",
       "9   678304215                28277                                  9376   \n",
       "29  678304215                 7683                                  2867   \n",
       "28  685732140                15232                                  5414   \n",
       "8   685732140                47709                                 14491   \n",
       "27  713682054                 2898                                  1092   \n",
       "7   713682054                 6634                                  2464   \n",
       "38  720563814                 3242                                  1208   \n",
       "18  720563814                 8502                                  3062   \n",
       "15  740653812                29661                                  9589   \n",
       "35  740653812                 9178                                  3294   \n",
       "3   758306124                92722                                 22020   \n",
       "23  758306124                23202                                  7768   \n",
       "32  820415637                 8107                                  2951   \n",
       "12  820415637                27120                                  8981   \n",
       "4   827306415                86186                                 21224   \n",
       "24  827306415                31178                                 10088   \n",
       "26  850721364                19360                                  6676   \n",
       "6   850721364                46045                                 13954   \n",
       "\n",
       "    iteracoes heuristic_function  tempo_processamento  solvable  \n",
       "37       6822                 h2                 0.00      True  \n",
       "17       9153                 h1                 0.00      True  \n",
       "1        6479                 h1                 0.00      True  \n",
       "21       2480                 h2                 0.00      True  \n",
       "2       21771                 h1                 4.28      True  \n",
       "22       5948                 h2                 0.00      True  \n",
       "19     181442                 h1                36.36     False  \n",
       "39     181442                 h2               115.85     False  \n",
       "16       1374                 h1                 0.00      True  \n",
       "36        586                 h2                 0.00      True  \n",
       "33      33723                 h2                22.20      True  \n",
       "13      75603                 h1                15.20      True  \n",
       "20      12814                 h2                 5.89      True  \n",
       "0       32111                 h1                 5.56      True  \n",
       "31      24889                 h2                11.53      True  \n",
       "11      95176                 h1                16.46      True  \n",
       "14      75889                 h1                14.36      True  \n",
       "34      25920                 h2                14.11      True  \n",
       "10       3581                 h1                 0.00      True  \n",
       "30       1887                 h2                 0.00      True  \n",
       "5       21800                 h1                 3.48      True  \n",
       "25       7128                 h2                 0.00      True  \n",
       "9       18904                 h1                 1.52      True  \n",
       "29       4819                 h2                 0.00      True  \n",
       "28       9819                 h2                 0.00      True  \n",
       "8       33219                 h1                 4.96      True  \n",
       "27       1807                 h2                 0.00      True  \n",
       "7        4171                 h1                 0.00      True  \n",
       "38       2035                 h2                 0.00      True  \n",
       "18       5441                 h1                 0.00      True  \n",
       "15      20073                 h1                 3.95      True  \n",
       "35       5885                 h2                 0.00      True  \n",
       "3       70705                 h1                16.20      True  \n",
       "23      15437                 h2                 5.63      True  \n",
       "32       5157                 h2                 0.00      True  \n",
       "12      18140                 h1                 1.91      True  \n",
       "4       64965                 h1                11.96      True  \n",
       "24      21093                 h2                11.83      True  \n",
       "26      12685                 h2                 5.80      True  \n",
       "6       32092                 h1                 4.82      True  "
      ]
     },
     "execution_count": 37,
     "metadata": {},
     "output_type": "execute_result"
    }
   ],
   "source": [
    "df_resultados.sort_values('board')"
   ]
  },
  {
   "cell_type": "markdown",
   "id": "dab6ffba-2ee8-4334-bd6d-12e88764e837",
   "metadata": {},
   "source": [
    "## Visualizar movimentações"
   ]
  },
  {
   "cell_type": "code",
   "execution_count": 119,
   "id": "bb794a37-a9fc-43f8-91d7-4f10f63fca58",
   "metadata": {},
   "outputs": [],
   "source": [
    "initial_puzzle = board_random.copy()"
   ]
  },
  {
   "cell_type": "code",
   "execution_count": 120,
   "id": "37e788a6-0e24-4270-857c-9005a4cc36ce",
   "metadata": {},
   "outputs": [],
   "source": [
    "solucao_otima = result[0]"
   ]
  },
  {
   "cell_type": "code",
   "execution_count": 121,
   "id": "3a2dced8-78f6-4ad5-bd6c-debfeccff742",
   "metadata": {},
   "outputs": [
    {
     "data": {
      "text/plain": [
       "array([[7, 4, 5],\n",
       "       [2, 3, 1],\n",
       "       [6, 8, None]], dtype=object)"
      ]
     },
     "execution_count": 121,
     "metadata": {},
     "output_type": "execute_result"
    }
   ],
   "source": [
    "initial_puzzle"
   ]
  },
  {
   "cell_type": "code",
   "execution_count": 122,
   "id": "93685cce-3f0f-4c76-b094-d8cd2a4eca25",
   "metadata": {},
   "outputs": [],
   "source": [
    "import pygame\n",
    "import numpy as np\n",
    "import random\n",
    "\n",
    "# Inicialização do pygame\n",
    "pygame.init()\n",
    "\n",
    "BOARD_SIZE = 3  # Agora, este valor pode ser qualquer número positivo.\n",
    "\n",
    "# Definições\n",
    "WIDTH, HEIGHT = 300, 300\n",
    "CELL_SIZE = WIDTH // BOARD_SIZE\n",
    "WHITE = (255, 255, 255)\n",
    "\n",
    "screen = pygame.display.set_mode((WIDTH, HEIGHT))\n",
    "pygame.display.set_caption(\"8-Puzzle\")\n",
    "\n",
    "image = pygame.image.load('cachorro.jpg')\n",
    "image = pygame.transform.scale(image, (WIDTH, HEIGHT))\n",
    "\n",
    "def draw_board(board):\n",
    "    screen.fill(WHITE)\n",
    "    for i in range(BOARD_SIZE):\n",
    "        for j in range(BOARD_SIZE):\n",
    "            if board[i][j] is not None:  # Verificar se não é o espaço vazio\n",
    "                y, x = divmod(board[i][j]-1, BOARD_SIZE)\n",
    "                screen.blit(image, (j*CELL_SIZE, i*CELL_SIZE), (x*CELL_SIZE, y*CELL_SIZE, CELL_SIZE, CELL_SIZE))\n",
    "    pygame.display.flip()\n",
    "\n",
    "def move(board, direction):\n",
    "    i, j = np.where(board == None)\n",
    "    i, j = i[0], j[0]\n",
    "    \n",
    "    if direction == 'left' and j > 0:\n",
    "        board[i][j], board[i][j-1] = board[i][j-1], board[i][j]\n",
    "    elif direction == 'right' and j < BOARD_SIZE - 1:  # Atualizado para BOARD_SIZE\n",
    "        board[i][j], board[i][j+1] = board[i][j+1], board[i][j]\n",
    "    elif direction == 'top' and i > 0:\n",
    "        board[i][j], board[i-1][j] = board[i-1][j], board[i][j]\n",
    "    elif direction == 'bottom' and i < BOARD_SIZE - 1:  # Atualizado para BOARD_SIZE\n",
    "        board[i][j], board[i+1][j] = board[i+1][j], board[i][j]\n",
    "\n",
    "    for _ in range(10):\n",
    "        draw_board(board)\n",
    "        pygame.time.wait(50)\n",
    "\n",
    "# Aqui, você deve ter a definição do seu tabuleiro inicial \"initial_puzzle\" e da solução \"solucao_otima\"\n",
    "\n",
    "board = initial_puzzle.copy()\n",
    "\n",
    "for action in solucao_otima['actions']:\n",
    "    for event in pygame.event.get():\n",
    "        if event.type == pygame.QUIT:\n",
    "            running = False\n",
    "\n",
    "    draw_board(board)\n",
    "    pygame.time.wait(200)\n",
    "\n",
    "    move(board, action)\n",
    "    pygame.time.wait(200)\n",
    "\n",
    "pygame.quit()\n"
   ]
  },
  {
   "cell_type": "code",
   "execution_count": null,
   "id": "19a8a605-f288-4d4c-8214-aadd9769a4e6",
   "metadata": {},
   "outputs": [],
   "source": []
  }
 ],
 "metadata": {
  "kernelspec": {
   "display_name": "Python 3 (ipykernel)",
   "language": "python",
   "name": "python3"
  },
  "language_info": {
   "codemirror_mode": {
    "name": "ipython",
    "version": 3
   },
   "file_extension": ".py",
   "mimetype": "text/x-python",
   "name": "python",
   "nbconvert_exporter": "python",
   "pygments_lexer": "ipython3",
   "version": "3.9.13"
  }
 },
 "nbformat": 4,
 "nbformat_minor": 5
}
