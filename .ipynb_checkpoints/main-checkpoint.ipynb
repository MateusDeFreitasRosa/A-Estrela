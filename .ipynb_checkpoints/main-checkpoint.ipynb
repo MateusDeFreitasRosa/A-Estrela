{
 "cells": [
  {
   "cell_type": "code",
   "execution_count": null,
   "id": "5a791c62-fbb8-4e15-9255-667aeb948804",
   "metadata": {},
   "outputs": [],
   "source": [
    "## Este código implementa o algoritmo A-Estrela para resolver o problema do Quebra-Cabeça de Oito Peças"
   ]
  },
  {
   "cell_type": "markdown",
   "id": "e4e4426a-1a52-45ce-a477-00b2dfbcbfc4",
   "metadata": {},
   "source": [
    "## Definição do funcionamento do jogo"
   ]
  },
  {
   "cell_type": "code",
   "execution_count": 7,
   "id": "e1f221ea-792d-4b7a-9e30-9c482a884880",
   "metadata": {},
   "outputs": [],
   "source": [
    "import numpy as np"
   ]
  },
  {
   "cell_type": "code",
   "execution_count": 93,
   "id": "470cecc9-f32d-46f6-a588-56d857faaf39",
   "metadata": {},
   "outputs": [],
   "source": [
    "## Definição do tabuleiro\n",
    "initial_puzzle = np.asarray([[1,2,3],\n",
    "                             [4,5,None],\n",
    "                             [6,7,8 ]])\n",
    "\n",
    "## Define as regras de movimentações:\n",
    "rule_action = {\n",
    "    'top': (-1, 0),\n",
    "    'bottom': (1, 0),\n",
    "    'left': (0, -1),\n",
    "    'right': (0, 1)\n",
    "}\n",
    "\n",
    "\n",
    "puzzle_shape = (3, 3)\n",
    "\n",
    "if not puzzle_shape == initial_puzzle.shape:\n",
    "    raise 'O tabuleiro inicial é obrigado a obedecer o puzzle_shape'\n",
    "\n",
    "## Função de ação no tabuleiro\n",
    "def expands_new_states(father_puzzle):\n",
    "    global rule_action\n",
    "    \n",
    "    \n",
    "    actions = []\n",
    "    children_puzzles = []\n",
    "    \n",
    "    ## Itera todas as possíveis ações para expandir os novos estados.\n",
    "    for act in rule_action.keys():\n",
    "        ## Pega a posição do espaço vazio do tabuleiro\n",
    "        position = np.where(father_puzzle == None)\n",
    "\n",
    "        ## Realiza a ação de movimentar a peça vazia.\n",
    "        new_position = (position[0] + rule_action[act][0], position[1] + rule_action[act][1])\n",
    "        \n",
    "        if action_is_valid(new_position):\n",
    "            actions.append(act)\n",
    "            child_puzzle = father_puzzle.copy()\n",
    "            print('Ação: {}'.format(act))\n",
    "            ## Atualiza o tabuleiro com o novo estado, após o movimento da posição vazia do tabuleiro.\n",
    "            child_puzzle[position] = child_puzzle[new_position]\n",
    "            child_puzzle[new_position] = None\n",
    "            \n",
    "            children_puzzles.append(child_puzzle)\n",
    "    \n",
    "    return (actions, children_puzzles)\n",
    "\n",
    "\n",
    "## Função para avaliar quais são os possíveis movimentos.\n",
    "def action_is_valid(new_position):\n",
    "    global puzzle_shape\n",
    "    max_height = puzzle_shape[0]\n",
    "    max_width = puzzle_shape[1]\n",
    "    \n",
    "    if new_position[0] >= 0 and new_position[0] < max_height and new_position[1] >= 0 and new_position[1] < max_width:\n",
    "        return True"
   ]
  },
  {
   "cell_type": "code",
   "execution_count": 94,
   "id": "154bcf06-dae2-4ce1-97cf-92ea9a6a8fe5",
   "metadata": {},
   "outputs": [
    {
     "name": "stdout",
     "output_type": "stream",
     "text": [
      "Ação: top\n",
      "Ação: bottom\n",
      "Ação: left\n"
     ]
    },
    {
     "data": {
      "text/plain": [
       "(['top', 'bottom', 'left'],\n",
       " [array([[1, 2, None],\n",
       "         [4, 5, 3],\n",
       "         [6, 7, 8]], dtype=object),\n",
       "  array([[1, 2, 3],\n",
       "         [4, 5, 8],\n",
       "         [6, 7, None]], dtype=object),\n",
       "  array([[1, 2, 3],\n",
       "         [4, None, 5],\n",
       "         [6, 7, 8]], dtype=object)])"
      ]
     },
     "execution_count": 94,
     "metadata": {},
     "output_type": "execute_result"
    }
   ],
   "source": [
    "expands_new_states(initial_puzzle)"
   ]
  },
  {
   "cell_type": "code",
   "execution_count": 90,
   "id": "9770575c-ba87-4beb-a655-e2773444be5a",
   "metadata": {},
   "outputs": [],
   "source": [
    "act = 'top'"
   ]
  },
  {
   "cell_type": "code",
   "execution_count": 91,
   "id": "72496140-2242-488c-a013-c1d6535b2b67",
   "metadata": {},
   "outputs": [],
   "source": [
    "## Pega a posição do espaço vazio do tabuleiro\n",
    "position = np.where(initial_puzzle == None)\n",
    "\n",
    "## Realiza a ação de movimentar a peça vazia.\n",
    "new_position = (position[0] + rule_action[act][0], position[1] + rule_action[act][1])"
   ]
  },
  {
   "cell_type": "code",
   "execution_count": 92,
   "id": "2fcd6ce7-5445-4e4c-8e0b-ffe4fd3016cf",
   "metadata": {},
   "outputs": [
    {
     "data": {
      "text/plain": [
       "(array([0], dtype=int64), array([2], dtype=int64))"
      ]
     },
     "execution_count": 92,
     "metadata": {},
     "output_type": "execute_result"
    }
   ],
   "source": [
    "new_position"
   ]
  },
  {
   "cell_type": "code",
   "execution_count": null,
   "id": "502c9064-1c0b-4a7a-bb93-df7efdf06428",
   "metadata": {},
   "outputs": [],
   "source": []
  },
  {
   "cell_type": "code",
   "execution_count": 61,
   "id": "1b75b49a-b403-46c0-b827-6d4499bde412",
   "metadata": {},
   "outputs": [],
   "source": [
    "viables_moves = []"
   ]
  },
  {
   "cell_type": "code",
   "execution_count": 66,
   "id": "a3c413e0-4283-4507-b026-12fd62fb50a0",
   "metadata": {},
   "outputs": [],
   "source": [
    "position = np.where(initial_puzzle == None)\n",
    "\n",
    "\n",
    "max_height = puzzle_shape[0]\n",
    "max_width = puzzle_shape[1]"
   ]
  },
  {
   "cell_type": "code",
   "execution_count": 67,
   "id": "614e9112-cb27-4871-92a6-3cf86ad091c7",
   "metadata": {},
   "outputs": [],
   "source": [
    "## Realiza a ação de movimentar a peça vazia.\n",
    "new_position = (position[0] + rule_action[act][0], position[1] + rule_action[act][1])"
   ]
  },
  {
   "cell_type": "code",
   "execution_count": 74,
   "id": "9a9946b3-bdb4-4761-9446-764cf282a22d",
   "metadata": {},
   "outputs": [
    {
     "name": "stdout",
     "output_type": "stream",
     "text": [
      "Oi\n"
     ]
    }
   ],
   "source": [
    "\n",
    "    print('Oi')"
   ]
  },
  {
   "cell_type": "code",
   "execution_count": 71,
   "id": "8a86587d-49b3-4900-bd21-a34303c6c030",
   "metadata": {},
   "outputs": [
    {
     "data": {
      "text/plain": [
       "array([ True])"
      ]
     },
     "execution_count": 71,
     "metadata": {},
     "output_type": "execute_result"
    }
   ],
   "source": []
  },
  {
   "cell_type": "code",
   "execution_count": null,
   "id": "4bc9d51f-9e41-4b1f-a4dd-6c682500898f",
   "metadata": {},
   "outputs": [],
   "source": []
  },
  {
   "cell_type": "code",
   "execution_count": null,
   "id": "a406fcb2-4f4f-441f-94bd-604f339f6b7b",
   "metadata": {},
   "outputs": [],
   "source": []
  },
  {
   "cell_type": "code",
   "execution_count": null,
   "id": "64254bf5-433d-4953-bbeb-4686e3b36fc0",
   "metadata": {},
   "outputs": [],
   "source": []
  },
  {
   "cell_type": "code",
   "execution_count": 65,
   "id": "b4f2c7f9-d54c-4acb-a89c-f493c81a5c2f",
   "metadata": {},
   "outputs": [
    {
     "data": {
      "text/plain": [
       "(array([1], dtype=int64), array([1], dtype=int64))"
      ]
     },
     "execution_count": 65,
     "metadata": {},
     "output_type": "execute_result"
    }
   ],
   "source": [
    "if new_position[0] > "
   ]
  },
  {
   "cell_type": "code",
   "execution_count": null,
   "id": "35ad489a-5f1b-42c7-abb8-975a0aeb3a07",
   "metadata": {},
   "outputs": [],
   "source": []
  },
  {
   "cell_type": "code",
   "execution_count": null,
   "id": "8faa177d-7c0b-4ad5-a8c1-ad20fee26fa0",
   "metadata": {},
   "outputs": [],
   "source": []
  },
  {
   "cell_type": "code",
   "execution_count": null,
   "id": "93ea6479-2e96-42f0-be8c-b7e054cee66a",
   "metadata": {},
   "outputs": [],
   "source": []
  }
 ],
 "metadata": {
  "kernelspec": {
   "display_name": "Python 3 (ipykernel)",
   "language": "python",
   "name": "python3"
  },
  "language_info": {
   "codemirror_mode": {
    "name": "ipython",
    "version": 3
   },
   "file_extension": ".py",
   "mimetype": "text/x-python",
   "name": "python",
   "nbconvert_exporter": "python",
   "pygments_lexer": "ipython3",
   "version": "3.9.13"
  }
 },
 "nbformat": 4,
 "nbformat_minor": 5
}
