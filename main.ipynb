{
 "cells": [
  {
   "cell_type": "code",
   "execution_count": null,
   "id": "5a791c62-fbb8-4e15-9255-667aeb948804",
   "metadata": {},
   "outputs": [],
   "source": [
    "## Este código implementa o algoritmo A-Estrela para resolver o problema do Quebra-Cabeça de Oito Peças"
   ]
  },
  {
   "cell_type": "markdown",
   "id": "e4e4426a-1a52-45ce-a477-00b2dfbcbfc4",
   "metadata": {},
   "source": [
    "## Definição do funcionamento do jogo"
   ]
  },
  {
   "cell_type": "code",
   "execution_count": 1,
   "id": "e1f221ea-792d-4b7a-9e30-9c482a884880",
   "metadata": {},
   "outputs": [],
   "source": [
    "import numpy as np"
   ]
  },
  {
   "cell_type": "code",
   "execution_count": 2,
   "id": "bca9e1a0-39a9-4dd7-872e-cce630a93a81",
   "metadata": {},
   "outputs": [],
   "source": [
    "## Definição do tabuleiro\n",
    "# initial_puzzle = np.asarray([[1,2,3],\n",
    "#                              [4,None, 5],\n",
    "#                              [6,7,8 ]])\n",
    "\n",
    "initial_puzzle = np.asarray([[1,2,3,4],\n",
    "                             [5,6,7,8],\n",
    "                             [9,10,None,12],\n",
    "                             [13,14,15,16]])\n",
    "\n",
    "objective_puzzle = np.asarray([[1,2,3,4],\n",
    "                               [5,6,7,8],\n",
    "                               [9,10,12,13],\n",
    "                               [14,15,16, None]])\n",
    "\n",
    "\n",
    "## Define as regras de movimentações:\n",
    "rule_action = {\n",
    "    'top': (-1, 0),\n",
    "    'bottom': (1, 0),\n",
    "    'left': (0, -1),\n",
    "    'right': (0, 1)\n",
    "}\n",
    "\n",
    "\n",
    "puzzle_shape = (4, 4)\n",
    "\n",
    "if not puzzle_shape == initial_puzzle.shape:\n",
    "    raise 'O tabuleiro inicial é obrigado a obedecer o puzzle_shape'"
   ]
  },
  {
   "cell_type": "code",
   "execution_count": 3,
   "id": "2346eb52-d347-4bf6-9c66-5224ccd7f258",
   "metadata": {},
   "outputs": [],
   "source": [
    "def h1(puzzle):\n",
    "    global objective_puzzle\n",
    "    \n",
    "    '''\n",
    "        Esta heurística consiste em contabilizar quantas peças estão em locais errados.\n",
    "        Esta é uma heurística simples.\n",
    "    '''\n",
    "    \n",
    "    return (puzzle != objective_puzzle).sum()"
   ]
  },
  {
   "cell_type": "code",
   "execution_count": 4,
   "id": "eda3a6cf-fb90-4cfd-b464-c0542903eb2b",
   "metadata": {},
   "outputs": [],
   "source": [
    "def h2(puzzle):\n",
    "    global objective_puzzle\n",
    "    \n",
    "    '''\n",
    "        Esta heurística consiste em calcular a distância de manhattan de cada peça até sua posição objetivo.\n",
    "    '''\n",
    "    distancias_manhattan = []\n",
    "    \n",
    "    for i in range(puzzle.shape[0]):\n",
    "        for j in range(puzzle.shape[1]):\n",
    "            position = np.where(objective_puzzle == puzzle[i][j])\n",
    "            \n",
    "            distancias_manhattan.append( int(abs(i - position[0]) + abs(j - position[1])) )\n",
    "    \n",
    "    return np.asarray(distancias_manhattan).sum()"
   ]
  },
  {
   "cell_type": "code",
   "execution_count": 5,
   "id": "470cecc9-f32d-46f6-a588-56d857faaf39",
   "metadata": {},
   "outputs": [],
   "source": [
    "## Função de ação no tabuleiro\n",
    "def expands_new_states(father_puzzle):\n",
    "    global rule_action\n",
    "    \n",
    "    \n",
    "    actions = []\n",
    "    children_puzzles = []\n",
    "    \n",
    "    ## Itera todas as possíveis ações para expandir os novos estados.\n",
    "    for act in rule_action.keys():\n",
    "        ## Pega a posição do espaço vazio do tabuleiro\n",
    "        position = np.where(father_puzzle == None)\n",
    "\n",
    "        ## Realiza a ação de movimentar a peça vazia.\n",
    "        new_position = (position[0] + rule_action[act][0], position[1] + rule_action[act][1])\n",
    "        \n",
    "        if action_is_valid(new_position):\n",
    "            actions.append(act)\n",
    "            child_puzzle = father_puzzle.copy()\n",
    "            print('Ação: {}'.format(act))\n",
    "            ## Atualiza o tabuleiro com o novo estado, após o movimento da posição vazia do tabuleiro.\n",
    "            child_puzzle[position] = child_puzzle[new_position]\n",
    "            child_puzzle[new_position] = None\n",
    "            \n",
    "            children_puzzles.append(child_puzzle)\n",
    "    \n",
    "    return (actions, children_puzzles)\n",
    "\n",
    "\n",
    "## Função para avaliar quais são os possíveis movimentos.\n",
    "def action_is_valid(new_position):\n",
    "    global puzzle_shape\n",
    "    max_height = puzzle_shape[0]\n",
    "    max_width = puzzle_shape[1]\n",
    "    \n",
    "    if new_position[0] >= 0 and new_position[0] < max_height and new_position[1] >= 0 and new_position[1] < max_width:\n",
    "        return True"
   ]
  },
  {
   "cell_type": "code",
   "execution_count": 6,
   "id": "154bcf06-dae2-4ce1-97cf-92ea9a6a8fe5",
   "metadata": {},
   "outputs": [
    {
     "name": "stdout",
     "output_type": "stream",
     "text": [
      "Ação: top\n",
      "Ação: bottom\n",
      "Ação: left\n",
      "Ação: right\n"
     ]
    },
    {
     "data": {
      "text/plain": [
       "(['top', 'bottom', 'left', 'right'],\n",
       " [array([[1, 2, 3, 4],\n",
       "         [5, 6, None, 8],\n",
       "         [9, 10, 7, 12],\n",
       "         [13, 14, 15, 16]], dtype=object),\n",
       "  array([[1, 2, 3, 4],\n",
       "         [5, 6, 7, 8],\n",
       "         [9, 10, 15, 12],\n",
       "         [13, 14, None, 16]], dtype=object),\n",
       "  array([[1, 2, 3, 4],\n",
       "         [5, 6, 7, 8],\n",
       "         [9, None, 10, 12],\n",
       "         [13, 14, 15, 16]], dtype=object),\n",
       "  array([[1, 2, 3, 4],\n",
       "         [5, 6, 7, 8],\n",
       "         [9, 10, 12, None],\n",
       "         [13, 14, 15, 16]], dtype=object)])"
      ]
     },
     "execution_count": 6,
     "metadata": {},
     "output_type": "execute_result"
    }
   ],
   "source": [
    "expands_new_states(initial_puzzle)"
   ]
  },
  {
   "cell_type": "markdown",
   "id": "e8fa32d8-a81c-4279-8e62-0b605106414f",
   "metadata": {},
   "source": [
    "## Algoritmo A*"
   ]
  },
  {
   "cell_type": "code",
   "execution_count": null,
   "id": "a5823805-d0d6-4aa2-94fb-c07cd3b9e212",
   "metadata": {},
   "outputs": [],
   "source": []
  }
 ],
 "metadata": {
  "kernelspec": {
   "display_name": "Python 3 (ipykernel)",
   "language": "python",
   "name": "python3"
  },
  "language_info": {
   "codemirror_mode": {
    "name": "ipython",
    "version": 3
   },
   "file_extension": ".py",
   "mimetype": "text/x-python",
   "name": "python",
   "nbconvert_exporter": "python",
   "pygments_lexer": "ipython3",
   "version": "3.9.13"
  }
 },
 "nbformat": 4,
 "nbformat_minor": 5
}
